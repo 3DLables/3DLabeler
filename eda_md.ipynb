{
 "cells": [
  {
   "cell_type": "code",
   "execution_count": 27,
   "metadata": {},
   "outputs": [],
   "source": [
    "import matplotlib.pyplot as plt\n",
    "import nibabel as nib\n",
    "import numpy as np\n",
    "import pandas as pd\n",
    "from io import StringIO\n",
    "from ThreeDLabeler.preprocessing import tag_parser"
   ]
  },
  {
   "cell_type": "code",
   "execution_count": 3,
   "metadata": {},
   "outputs": [],
   "source": [
    "img_475 = nib.load(\"/Users/michaeldac/Code/CUNY/698/Skulls/475.mnc\")"
   ]
  },
  {
   "cell_type": "code",
   "execution_count": 4,
   "metadata": {},
   "outputs": [
    {
     "name": "stdout",
     "output_type": "stream",
     "text": [
      "The data shape is: (698, 397, 456)\n",
      "The type of data is: <class 'numpy.ndarray'>\n",
      "[[[-242.   -186.99 -304.03 -101.02]\n",
      "  [ -59.98 -216.98 -267.03  -55.02]\n",
      "  [  31.01   29.98 -118.01   68.97]\n",
      "  [ -35.98  230.02  337.03  221.01]]\n",
      "\n",
      " [[-179.02  -62.    148.97  143.02]\n",
      "  [ -72.02    7.98   93.98   99.02]\n",
      "  [  59.02  125.    152.    146.  ]\n",
      "  [  64.     -3.98  -45.98   40.99]]\n",
      "\n",
      " [[   8.03  128.02  128.99  -11.  ]\n",
      "  [  92.01  181.01   90.02    1.02]\n",
      "  [  88.99   41.98 -118.01  -69.98]\n",
      "  [ 137.02   43.98 -114.99  -23.03]]\n",
      "\n",
      " [[-117.    -31.99  -94.99  -12.  ]\n",
      "  [ 103.03   32.02 -155.98  -89.  ]\n",
      "  [  -3.99   32.02 -208.   -107.98]\n",
      "  [ 208.03  132.99 -178.99   26.98]]]\n"
     ]
    }
   ],
   "source": [
    "img_475 = img_475.get_data()\n",
    "print(\"The data shape is:\", img_475.shape)\n",
    "print(\"The type of data is:\", type(img_475))\n",
    "np.set_printoptions(precision=2, suppress=True)\n",
    "print(img_475[0:4, 0:4, 0:4])"
   ]
  },
  {
   "cell_type": "code",
   "execution_count": 28,
   "metadata": {},
   "outputs": [
    {
     "data": {
      "text/plain": [
       "array([[13.65,  7.05, 14.94],\n",
       "       [10.07,  9.49,  8.1 ],\n",
       "       [ 9.73,  5.17,  0.57],\n",
       "       [ 6.82,  9.39,  7.67],\n",
       "       [ 1.93,  6.43, 13.68]])"
      ]
     },
     "execution_count": 28,
     "metadata": {},
     "output_type": "execute_result"
    }
   ],
   "source": [
    "tag_475 = tag_parser('/Users/michaeldac/Code/CUNY/698/Skulls/475_landmarks.tag')\n",
    "tag_475"
   ]
  },
  {
   "cell_type": "code",
   "execution_count": 26,
   "metadata": {},
   "outputs": [],
   "source": [
    "import os\n",
    "from google.cloud import firestore\n",
    "credential_path = \"/Users/michaeldac/Downloads/3DLabeler-ff833c2b4aaa.json\"\n",
    "os.environ['GOOGLE_APPLICATION_CREDENTIALS'] = credential_path\n",
    "\n",
    "db = firestore.Client()"
   ]
  },
  {
   "cell_type": "code",
   "execution_count": 31,
   "metadata": {},
   "outputs": [],
   "source": [
    "doc_ref = db.collection(u'test_collection').document(u'tag_475')"
   ]
  },
  {
   "cell_type": "code",
   "execution_count": 34,
   "metadata": {},
   "outputs": [
    {
     "data": {
      "text/plain": [
       "update_time {\n",
       "  seconds: 1573093271\n",
       "  nanos: 722280000\n",
       "}"
      ]
     },
     "execution_count": 34,
     "metadata": {},
     "output_type": "execute_result"
    }
   ],
   "source": [
    "doc_ref.set({\n",
    "    u'tag_name': u'tag_475',\n",
    "    u'num_rows': u'50'})"
   ]
  },
  {
   "cell_type": "code",
   "execution_count": 35,
   "metadata": {},
   "outputs": [],
   "source": [
    "test_dict = {\n",
    "    \"looks_like\": \"JSON\",\n",
    "    \"walks_like\": \"JSON\",\n",
    "    \"talks_like\": \"JSON\",\n",
    "    \"ItMustBe\": \"JSONNNN\"\n",
    "}"
   ]
  },
  {
   "cell_type": "code",
   "execution_count": 36,
   "metadata": {},
   "outputs": [
    {
     "data": {
      "text/plain": [
       "update_time {\n",
       "  seconds: 1573093561\n",
       "  nanos: 217360000\n",
       "}"
      ]
     },
     "execution_count": 36,
     "metadata": {},
     "output_type": "execute_result"
    }
   ],
   "source": [
    "db.collection(u'test_collection').document(u'another_test').set(test_dict)"
   ]
  },
  {
   "cell_type": "code",
   "execution_count": null,
   "metadata": {},
   "outputs": [],
   "source": []
  }
 ],
 "metadata": {
  "kernelspec": {
   "display_name": "Python 3",
   "language": "python",
   "name": "python3"
  },
  "language_info": {
   "codemirror_mode": {
    "name": "ipython",
    "version": 3
   },
   "file_extension": ".py",
   "mimetype": "text/x-python",
   "name": "python",
   "nbconvert_exporter": "python",
   "pygments_lexer": "ipython3",
   "version": "3.7.4"
  }
 },
 "nbformat": 4,
 "nbformat_minor": 2
}
